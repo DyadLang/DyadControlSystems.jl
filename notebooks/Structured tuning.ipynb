{
 "cells": [
  {
   "cell_type": "markdown",
   "id": "6a38e68f",
   "metadata": {
    "slideshow": {
     "slide_type": "slide"
    }
   },
   "source": [
    "# Automatic tuning of structured controllers in JuliaSim\n",
    "\n",
    "## JuliaSim\n",
    "A platform for modeling, simulation and *control*\n",
    "\n",
    "## Problem setting\n",
    "- We want to control something 😄\n",
    "- The controller is *structured*\n",
    "- Design criteria may be provided\n"
   ]
  },
  {
   "cell_type": "markdown",
   "id": "1de5868c",
   "metadata": {
    "slideshow": {
     "slide_type": "subslide"
    }
   },
   "source": [
    "## How do we solve it?\n",
    "- Build a model using ModelingToolkit\n",
    "- Add *analysis points* to the model (signal names)\n",
    "- Specify *tuning objectives*\n",
    "- Solve an optimization problem"
   ]
  },
  {
   "cell_type": "markdown",
   "id": "9cee6460",
   "metadata": {
    "slideshow": {
     "slide_type": "slide"
    }
   },
   "source": [
    "## Today's example\n",
    "System model is an electrical motor with a cascaded PID controller for position and velocity control.\n",
    "![Block diagram](https://help.juliahub.com/DyadControlSystems/dev/figs/cascade_pid.png)"
   ]
  },
  {
   "cell_type": "code",
   "execution_count": null,
   "id": "801e9087",
   "metadata": {
    "slideshow": {
     "slide_type": "skip"
    }
   },
   "outputs": [],
   "source": [
    "using Pkg, Revise\n",
    "Pkg.precompile()\n",
    "using DyadControlSystems.MPC"
   ]
  },
  {
   "cell_type": "markdown",
   "id": "45a02336",
   "metadata": {
    "slideshow": {
     "slide_type": "slide"
    }
   },
   "source": [
    "## What is an AnalysisPoint?\n",
    "Think of it as a *named signal*"
   ]
  },
  {
   "cell_type": "code",
   "execution_count": null,
   "id": "264282e4",
   "metadata": {
    "slideshow": {
     "slide_type": "fragment"
    }
   },
   "outputs": [],
   "source": [
    "using ModelingToolkit\n",
    "using ModelingToolkitStandardLibrary.Blocks\n",
    "\n",
    "@named input = RealInput()\n",
    "@named output = RealOutput()\n",
    "\n",
    "connect(output, input)"
   ]
  },
  {
   "cell_type": "code",
   "execution_count": null,
   "id": "fd2fbf17",
   "metadata": {
    "slideshow": {
     "slide_type": "fragment"
    }
   },
   "outputs": [],
   "source": [
    "connect(output, :name, input)"
   ]
  },
  {
   "cell_type": "code",
   "execution_count": null,
   "id": "2f90a5ba",
   "metadata": {
    "slideshow": {
     "slide_type": "slide"
    }
   },
   "outputs": [],
   "source": [
    "using DyadControlSystems\n",
    "\n",
    "sys = DyadControlSystems.ControlDemoSystems.dcmotor(k=2)"
   ]
  },
  {
   "cell_type": "code",
   "execution_count": null,
   "id": "fa95f401",
   "metadata": {
    "slideshow": {
     "slide_type": "subslide"
    }
   },
   "outputs": [],
   "source": [
    "```              d\n",
    "     ┌─────┐  │  ┌─────┐\n",
    "r  e │     │u ▼  │     │ y\n",
    "──+─►│  C  ├──+─►│  P  ├─┬─►\n",
    "  ▲  │     │     │     │ │\n",
    " -│  └─────┘     └─────┘ │\n",
    "  │                      │\n",
    "  └──────────────────────┘\n",
    "```\n",
    "equations(sys)"
   ]
  },
  {
   "cell_type": "markdown",
   "id": "ff52a7b1",
   "metadata": {
    "slideshow": {
     "slide_type": "slide"
    }
   },
   "source": [
    "## Specify tunable parameters and operating points\n",
    "- Tunable parameters will be optimized\n",
    "    - Any parameter can be tunable (not only controller parameters)\n",
    "- Operating points determine where *linearization* is performed\n",
    "- An operating point include states, inputs *and parameters*"
   ]
  },
  {
   "cell_type": "code",
   "execution_count": null,
   "id": "a3cb001b",
   "metadata": {
    "slideshow": {
     "slide_type": "fragment"
    }
   },
   "outputs": [],
   "source": [
    "sysc = complete(sys)\n",
    "tunable_parameters = [\n",
    "    sysc.pi_controller.gainPI.k => (1e-9, 100.0) # parameter => (lower_bound, upper_bound)\n",
    "    sysc.pi_controller.int.k    => (2.0, 1e2)\n",
    "]\n",
    "\n",
    "operating_points = [ # Can be one or several operating points\n",
    "    ModelingToolkit.defaults(sys)\n",
    "]"
   ]
  },
  {
   "cell_type": "markdown",
   "id": "97332eda",
   "metadata": {
    "slideshow": {
     "slide_type": "fragment"
    }
   },
   "source": [
    "This system is linear, one operating point is sufficient for now"
   ]
  },
  {
   "cell_type": "markdown",
   "id": "a270e125",
   "metadata": {
    "slideshow": {
     "slide_type": "slide"
    }
   },
   "source": [
    "## Specify tuning objectives\n",
    "What do we want to achieve?\n",
    "- Accurate **reference tracking**?\n",
    "- Short **settling time**?\n",
    "- Limit **overshoot**?\n",
    "- Fast **disturbance rejection**?\n",
    "- Large **gain and phase margins**?\n",
    "- Limited **noise amplification**?\n",
    "- **Robustness** w.r.t. model uncertainty?\n",
    "- All of the above?\n"
   ]
  },
  {
   "cell_type": "markdown",
   "id": "bb759367",
   "metadata": {
    "slideshow": {
     "slide_type": "subslide"
    }
   },
   "source": [
    "#### Reference tracking\n",
    "Specify a reference model"
   ]
  },
  {
   "cell_type": "code",
   "execution_count": null,
   "id": "b159de17",
   "metadata": {
    "slideshow": {
     "slide_type": "fragment"
    }
   },
   "outputs": [],
   "source": [
    "ω     = 2pi*20.0\n",
    "ζ     = 0.8\n",
    "Gref  = tf(ω^2, [1, 2ζ*ω, ω^2])\n",
    "sto   = StepTrackingObjective(reference_model=Gref, tolerance=0.2, input=:r, output=:y)\n",
    "plot(sto, 0.4, size=(600, 400))"
   ]
  },
  {
   "cell_type": "markdown",
   "id": "8e49334a",
   "metadata": {
    "slideshow": {
     "slide_type": "subslide"
    }
   },
   "source": [
    "#### Sensitivity objectives\n",
    "Shape the *sensitivity function*---promote both **performance** and **robustness** \n",
    "```              d\n",
    "     ┌─────┐  │  ┌─────┐\n",
    "r  e │     │u ▼  │     │ y\n",
    "──+─►│  C  ├──+─►│  P  ├─┬─►\n",
    "  ▲  │     │     │     │ │\n",
    " -│  └─────┘     └─────┘ │\n",
    "  │                      │\n",
    "  └──────────────────────┘\n",
    "```\n",
    "\n",
    "$$\n",
    "\\begin{aligned}\n",
    "S(s) &= \\dfrac{1}{I + P(s)C(s)} \\\\\n",
    "e &= Sr \\\\\n",
    "M_S &= ||S(s)||_\\infty \\\\\n",
    "\\phi_m &≥ 2 \\sin^{-1}\\left(\\dfrac{1}{2M_S}\\right) \\text{rad}\\\\\n",
    "g_m &≥ \\dfrac{M_S}{M_S-1}\n",
    "\\end{aligned}\n",
    "$$\n",
    "\n",
    "The *peak of the sensitivity function*, $M_S$, must not be too high!"
   ]
  },
  {
   "cell_type": "code",
   "execution_count": null,
   "id": "f5a55373",
   "metadata": {
    "slideshow": {
     "slide_type": "subslide"
    }
   },
   "outputs": [],
   "source": [
    "WS    = tf([1.5, 0], [1, 50])\n",
    "mso   = MaximumSensitivityObjective(WS, :y)\n",
    "plot(mso, size=(600, 400))"
   ]
  },
  {
   "cell_type": "markdown",
   "id": "d2569845",
   "metadata": {
    "slideshow": {
     "slide_type": "slide"
    }
   },
   "source": [
    "## Other classical design criteria\n",
    "- Limit overshoot\n",
    "- Desired rise time above some % of final value\n",
    "- Specified settling time to within some % of final value"
   ]
  },
  {
   "cell_type": "code",
   "execution_count": null,
   "id": "5cbc73e9",
   "metadata": {
    "slideshow": {
     "slide_type": "subslide"
    }
   },
   "outputs": [],
   "source": [
    "oo = OvershootObjective(max_value = 1.1, input=:r, output=:y)"
   ]
  },
  {
   "cell_type": "code",
   "execution_count": null,
   "id": "d175b0e8",
   "metadata": {
    "slideshow": {
     "slide_type": "subslide"
    }
   },
   "outputs": [],
   "source": [
    "rto = RiseTimeObjective(min_value = 0.9, time = 0.025, input=:r, output=:y)\n",
    "plot(rto, xlims=(0, 0.1), ylims=(0, 2), size=(600, 400))"
   ]
  },
  {
   "cell_type": "code",
   "execution_count": null,
   "id": "9c561a0e",
   "metadata": {
    "slideshow": {
     "slide_type": "subslide"
    }
   },
   "outputs": [],
   "source": [
    "seto = SettlingTimeObjective(; final_value = 1.0, time = 0.025, tolerance = 0.10, input=:r, output=:y) \n",
    "plot(seto, xlims=(0, 0.1), ylims=(0, 2), size=(600, 400))"
   ]
  },
  {
   "cell_type": "markdown",
   "id": "81617418",
   "metadata": {
    "slideshow": {
     "slide_type": "slide"
    }
   },
   "source": [
    "#### Package objectives together"
   ]
  },
  {
   "cell_type": "code",
   "execution_count": null,
   "id": "5c3470ef",
   "metadata": {
    "slideshow": {
     "slide_type": "fragment"
    }
   },
   "outputs": [],
   "source": [
    "objectives = [\n",
    "    sto,    # Step tracking \n",
    "    mso,    # Maximum sensitivity\n",
    "    seto,   # Settling time\n",
    "]"
   ]
  },
  {
   "cell_type": "markdown",
   "id": "e81553f4",
   "metadata": {
    "slideshow": {
     "slide_type": "slide"
    }
   },
   "source": [
    "## Create a `StructuredAutoTuningProblem`"
   ]
  },
  {
   "cell_type": "code",
   "execution_count": null,
   "id": "5bb8928e",
   "metadata": {
    "slideshow": {
     "slide_type": "fragment"
    }
   },
   "outputs": [],
   "source": [
    "w = exp10.(LinRange(0, 3, 200)) # Frequency vector\n",
    "t = 0:0.001:0.21;               # Time vector"
   ]
  },
  {
   "cell_type": "code",
   "execution_count": null,
   "id": "0d43c208",
   "metadata": {
    "slideshow": {
     "slide_type": "fragment"
    }
   },
   "outputs": [],
   "source": [
    "prob1 = StructuredAutoTuningProblem(sys, w, t, objectives, operating_points, tunable_parameters)"
   ]
  },
  {
   "cell_type": "code",
   "execution_count": null,
   "id": "2cc9bb48",
   "metadata": {
    "slideshow": {
     "slide_type": "subslide"
    }
   },
   "outputs": [],
   "source": [
    "plot(prob1)"
   ]
  },
  {
   "cell_type": "markdown",
   "id": "772a63dc",
   "metadata": {
    "slideshow": {
     "slide_type": "slide"
    }
   },
   "source": [
    "#### Solve"
   ]
  },
  {
   "cell_type": "code",
   "execution_count": null,
   "id": "af60dff2",
   "metadata": {
    "slideshow": {
     "slide_type": "fragment"
    }
   },
   "outputs": [],
   "source": [
    "p0 = [2.0, 20] # Initial guess\n",
    "res1 = solve(prob1, p0,\n",
    "    MPC.IpoptSolver(verbose=true, exact_hessian=false, acceptable_iter=4, tol=1e-4, acceptable_tol=1e-3, max_iter=100);\n",
    ")"
   ]
  },
  {
   "cell_type": "code",
   "execution_count": null,
   "id": "8c73caff",
   "metadata": {
    "slideshow": {
     "slide_type": "subslide"
    }
   },
   "outputs": [],
   "source": [
    "plot(res1)"
   ]
  },
  {
   "cell_type": "code",
   "execution_count": null,
   "id": "2a28541d",
   "metadata": {
    "slideshow": {
     "slide_type": "subslide"
    }
   },
   "outputs": [],
   "source": [
    "res1.objective_status[1] # Inspect the results in the first (and in this case only) operating point"
   ]
  },
  {
   "cell_type": "markdown",
   "id": "5968587d",
   "metadata": {
    "slideshow": {
     "slide_type": "slide"
    }
   },
   "source": [
    "### Add the outer position loop\n",
    "![Block diagram](https://help.juliahub.com/DyadControlSystems/dev/figs/cascade_pid.png)"
   ]
  },
  {
   "cell_type": "code",
   "execution_count": null,
   "id": "994d6d4e",
   "metadata": {
    "slideshow": {
     "slide_type": "subslide"
    }
   },
   "outputs": [],
   "source": [
    "sys_inner             = DyadControlSystems.ControlDemoSystems.dcmotor(ref=nothing)\n",
    "@named ref            = Blocks.Step(height = 1, start_time = 0)\n",
    "@named ref_diff       = Blocks.Derivative(T=0.1) # This will differentiate q_ref to q̇_ref\n",
    "@named add            = Blocks.Add()      # The middle ∑ block in the diagram\n",
    "@named p_controller   = Blocks.Gain(10.0) # Kₚ\n",
    "@named outer_feedback = Blocks.Feedback() # The leftmost ∑ block in the diagram\n",
    "@named id             = Blocks.Gain(1.0)  # a trivial identity element to allow us to place the analysis point :r in the right spot\n",
    "\n",
    "#connect = ModelingToolkit.connect\n",
    "connections = [\n",
    "    connect(ref.output, :r, id.input)                               # We now place analysis point :r here\n",
    "    connect(id.output, outer_feedback.input1, ref_diff.input)\n",
    "    connect(ref_diff.output, add.input1)\n",
    "    connect(add.output, sys_inner.feedback.input1)\n",
    "    connect(p_controller.output, :up, add.input2)                   # Analysis point :up\n",
    "    connect(sys_inner.angle_sensor.phi, :yp, outer_feedback.input2) # Analysis point :yp\n",
    "    connect(outer_feedback.output, :ep, p_controller.input)         # Analysis point :ep\n",
    "]\n",
    "\n",
    "@named closed_loop = ODESystem(connections, ModelingToolkit.get_iv(sys_inner); systems = [sys_inner, ref, id, ref_diff, add, p_controller, outer_feedback])"
   ]
  },
  {
   "cell_type": "code",
   "execution_count": null,
   "id": "0c083a68",
   "metadata": {
    "slideshow": {
     "slide_type": "subslide"
    }
   },
   "outputs": [],
   "source": [
    "cl = complete(closed_loop)\n",
    "\n",
    "tunable_parameters = [\n",
    "    cl.dcmotor.pi_controller.gainPI.k => (1e-1, 10.0)\n",
    "    cl.dcmotor.pi_controller.int.k    => (2.0, 1e2)\n",
    "    cl.p_controller.k                 => (1e-2, 1e2)\n",
    "]\n",
    "\n",
    "operating_points = [ # Can be one or several operating points\n",
    "    ModelingToolkit.defaults(closed_loop)\n",
    "]\n",
    "\n",
    "ωp    = 2pi*2.0                        # Desired position-loop bandwidth\n",
    "ζp    = 0.8\n",
    "Pref  = tf(ωp^2, [1, 2ζp*ωp, ωp^2])    # Desired position step response\n",
    "stp   = StepTrackingObjective(reference_model = Pref, tolerance = 0.05, input=:r, output=:yp)\n",
    "mso2  = MaximumSensitivityObjective(weight=WS, output=:dcmotor_y, loop_openings=[:yp])\n",
    "objectives = [\n",
    "    stp,\n",
    "    mso2,\n",
    "]\n",
    "\n",
    "t = 0:0.001:1\n",
    "prob2 = DyadControlSystems.StructuredAutoTuningProblem(cl, w, t, objectives, operating_points, tunable_parameters)\n",
    "\n",
    "p0 = [1, 20, 0.1]\n",
    "res2 = solve(prob2, p0,\n",
    "    MPC.IpoptSolver(verbose=false, exact_hessian=false, acceptable_iter=4, tol=1e-3, acceptable_tol=1e-2, max_iter=100);\n",
    ")"
   ]
  },
  {
   "cell_type": "code",
   "execution_count": null,
   "id": "77424e98",
   "metadata": {
    "slideshow": {
     "slide_type": "subslide"
    }
   },
   "outputs": [],
   "source": [
    "plot(res2)"
   ]
  },
  {
   "cell_type": "markdown",
   "id": "5399b29d",
   "metadata": {
    "slideshow": {
     "slide_type": "slide"
    }
   },
   "source": [
    "## Tuning under parametric uncertainty"
   ]
  },
  {
   "cell_type": "code",
   "execution_count": null,
   "id": "a00b49ff",
   "metadata": {
    "slideshow": {
     "slide_type": "fragment"
    }
   },
   "outputs": [],
   "source": [
    "using MonteCarloMeasurements\n",
    "N = 5 # Number of samples for the uncertain parameters\n",
    "J = Particles(N, Uniform(0.015, 0.025))"
   ]
  },
  {
   "cell_type": "code",
   "execution_count": null,
   "id": "d439e581",
   "metadata": {},
   "outputs": [],
   "source": [
    "(J+2)^2 # J behaves like a regular floating-point number, but represents an uncertain number"
   ]
  },
  {
   "cell_type": "code",
   "execution_count": null,
   "id": "ad2c7750",
   "metadata": {
    "slideshow": {
     "slide_type": "fragment"
    }
   },
   "outputs": [],
   "source": [
    "plot(J, bins=N, size=(400, 300))"
   ]
  },
  {
   "cell_type": "code",
   "execution_count": null,
   "id": "113dca5b",
   "metadata": {
    "slideshow": {
     "slide_type": "subslide"
    }
   },
   "outputs": [],
   "source": [
    "sys = DyadControlSystems.ControlDemoSystems.dcmotor()\n",
    "sysc = complete(sys)\n",
    "\n",
    "opu = ModelingToolkit.defaults(sys)\n",
    "opu[sysc.inertia.J] = J\n",
    "operating_pointsu = [opu];\n",
    "\n",
    "tunable_parameters = [\n",
    "    sysc.pi_controller.gainPI.k => (1e-9, 100.0)\n",
    "    sysc.pi_controller.int.k    => (2.0, 1e2)\n",
    "]\n",
    "\n",
    "objectives = [\n",
    "    sto,\n",
    "    seto,\n",
    "    mso,\n",
    "]\n",
    "\n",
    "t = 0:0.001:0.21\n",
    "prob3 = StructuredAutoTuningProblem(sysc, w, t, objectives, operating_pointsu, tunable_parameters)\n",
    "\n",
    "p0 = [1, 20]\n",
    "res3 = solve(prob3, p0,\n",
    "    MPC.IpoptSolver(verbose=false, exact_hessian=false, acceptable_iter=4, tol=1e-3, acceptable_tol=1e-2, max_iter=100);\n",
    ")"
   ]
  },
  {
   "cell_type": "code",
   "execution_count": null,
   "id": "861200aa",
   "metadata": {
    "slideshow": {
     "slide_type": "subslide"
    }
   },
   "outputs": [],
   "source": [
    "plot(res3)"
   ]
  },
  {
   "cell_type": "markdown",
   "id": "2491ff96",
   "metadata": {
    "slideshow": {
     "slide_type": "slide"
    }
   },
   "source": [
    "## Summary\n",
    "- Automatic controller tuning in ModelingToolkit\n",
    "- Meet objectives and specifications\n",
    "- Model uncertain parameters\n",
    "\n",
    "## See also\n",
    "- Youtube video series on control in Julia\n"
   ]
  },
  {
   "cell_type": "markdown",
   "id": "e7f63326",
   "metadata": {
    "slideshow": {
     "slide_type": "slide"
    }
   },
   "source": [
    "## Additional material\n",
    "### Limiting noise amplification\n",
    "Include objective limiting the transfer function $CS$\n",
    "$$u = \\dfrac{C}{I + PC}n$$"
   ]
  },
  {
   "cell_type": "code",
   "execution_count": null,
   "id": "d2057e5e",
   "metadata": {
    "slideshow": {
     "slide_type": "fragment"
    }
   },
   "outputs": [],
   "source": [
    "mto = MaximumTransferObjective(tf(1), :y, :u)"
   ]
  },
  {
   "cell_type": "code",
   "execution_count": null,
   "id": "15eac84d",
   "metadata": {
    "slideshow": {
     "slide_type": "subslide"
    }
   },
   "outputs": [],
   "source": [
    "objectives = [mso, mto]\n",
    "tunable_parameters = [\n",
    "    sysc.pi_controller.gainPI.k => (1e-9, 100.0) # parameter => (lower_bound, upper_bound)\n",
    "    sysc.pi_controller.int.k    => (2.0, 1e2)\n",
    "]\n",
    "\n",
    "operating_points = [ModelingToolkit.defaults(sys)]\n",
    "\n",
    "prob4 = StructuredAutoTuningProblem(sys, w, t, objectives, operating_points, tunable_parameters)\n",
    "plot(prob4)\n",
    "res4 = solve(prob4, p0,\n",
    "    MPC.IpoptSolver(verbose=false, exact_hessian=false, acceptable_iter=4, tol=1e-3, acceptable_tol=1e-2, max_iter=100);\n",
    ")\n",
    "plot(res4)"
   ]
  },
  {
   "cell_type": "code",
   "execution_count": null,
   "id": "8d2dec29",
   "metadata": {
    "slideshow": {
     "slide_type": "subslide"
    }
   },
   "outputs": [],
   "source": [
    "res4"
   ]
  }
 ],
 "metadata": {
  "celltoolbar": "Slideshow",
  "kernelspec": {
   "display_name": "Julia 1.8.5",
   "language": "julia",
   "name": "julia-1.8"
  },
  "language_info": {
   "file_extension": ".jl",
   "mimetype": "application/julia",
   "name": "julia",
   "version": "1.8.5"
  }
 },
 "nbformat": 4,
 "nbformat_minor": 5
}
